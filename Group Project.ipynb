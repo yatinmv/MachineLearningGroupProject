{
 "cells": [
  {
   "cell_type": "code",
   "execution_count": 52,
   "metadata": {},
   "outputs": [],
   "source": [
    "import numpy as np\n",
    "import pandas as pd\n",
    "import seaborn as sns\n",
    "import matplotlib.pyplot as plt\n",
    "%matplotlib inline"
   ]
  },
  {
   "cell_type": "code",
   "execution_count": 111,
   "metadata": {},
   "outputs": [
    {
     "name": "stdout",
     "output_type": "stream",
     "text": [
      "   Flow Duration  Tot Fwd Pkts  Tot Bwd Pkts  TotLen Fwd Pkts  \\\n",
      "0          43045             4             5             41.0   \n",
      "1              1             1             1              0.0   \n",
      "2          93815             4             5             41.0   \n",
      "3              1             1             1              0.0   \n",
      "4      119811476            34             1          10945.0   \n",
      "\n",
      "   TotLen Bwd Pkts  Fwd Pkt Len Max  Fwd Pkt Len Min  Fwd Pkt Len Mean  \\\n",
      "0           1832.0               41                0         10.250000   \n",
      "1              0.0                0                0          0.000000   \n",
      "2           1665.0               41                0         10.250000   \n",
      "3              0.0                0                0          0.000000   \n",
      "4            355.0              657               90        321.911765   \n",
      "\n",
      "   Fwd Pkt Len Std  Bwd Pkt Len Max  ...    Subflow Bwd Byts  \\\n",
      "0        20.500000             1448  ...                1832   \n",
      "1         0.000000                0  ...                   0   \n",
      "2        20.500000             1448  ...                1665   \n",
      "3         0.000000                0  ...                   0   \n",
      "4       121.130875              355  ...                 355   \n",
      "\n",
      "   Init Fwd Win Byts  Init Bwd Win Byts  Fwd Act Data Pkts  Fwd Seg Size Min  \\\n",
      "0                 -1               4116                  1                 0   \n",
      "1                 -1               4116                  0                 0   \n",
      "2                 -1               2058                  1                 0   \n",
      "3                 -1               2058                  0                 0   \n",
      "4                 -1                 -1                 34                 0   \n",
      "\n",
      "   Active Mean   Active Std  Active Max  Active Min  Label  \n",
      "0         0.00        0.000         0.0         0.0    VPN  \n",
      "1         0.00        0.000         0.0         0.0    VPN  \n",
      "2         0.00        0.000         0.0         0.0    VPN  \n",
      "3         0.00        0.000         0.0         0.0    VPN  \n",
      "4   5887718.25  2615219.556   9011009.0   3481402.0    VPN  \n",
      "\n",
      "[5 rows x 59 columns]\n"
     ]
    }
   ],
   "source": [
    "df = pd.read_csv('Combined_VPN_NonVPN.csv')\n",
    "print(df.head())\n",
    "X = df.iloc[:,range(58)]\n",
    "y =df['Label']"
   ]
  },
  {
   "cell_type": "code",
   "execution_count": 54,
   "metadata": {},
   "outputs": [
    {
     "data": {
      "text/html": [
       "<div>\n",
       "<style scoped>\n",
       "    .dataframe tbody tr th:only-of-type {\n",
       "        vertical-align: middle;\n",
       "    }\n",
       "\n",
       "    .dataframe tbody tr th {\n",
       "        vertical-align: top;\n",
       "    }\n",
       "\n",
       "    .dataframe thead th {\n",
       "        text-align: right;\n",
       "    }\n",
       "</style>\n",
       "<table border=\"1\" class=\"dataframe\">\n",
       "  <thead>\n",
       "    <tr style=\"text-align: right;\">\n",
       "      <th></th>\n",
       "      <th>Flow Duration</th>\n",
       "      <th>Tot Fwd Pkts</th>\n",
       "      <th>Tot Bwd Pkts</th>\n",
       "      <th>TotLen Fwd Pkts</th>\n",
       "      <th>TotLen Bwd Pkts</th>\n",
       "      <th>Fwd Pkt Len Max</th>\n",
       "      <th>Fwd Pkt Len Min</th>\n",
       "      <th>Fwd Pkt Len Mean</th>\n",
       "      <th>Fwd Pkt Len Std</th>\n",
       "      <th>Bwd Pkt Len Max</th>\n",
       "      <th>...</th>\n",
       "      <th>Subflow Bwd Pkts</th>\n",
       "      <th>Subflow Bwd Byts</th>\n",
       "      <th>Init Fwd Win Byts</th>\n",
       "      <th>Init Bwd Win Byts</th>\n",
       "      <th>Fwd Act Data Pkts</th>\n",
       "      <th>Fwd Seg Size Min</th>\n",
       "      <th>Active Mean</th>\n",
       "      <th>Active Std</th>\n",
       "      <th>Active Max</th>\n",
       "      <th>Active Min</th>\n",
       "    </tr>\n",
       "  </thead>\n",
       "  <tbody>\n",
       "    <tr>\n",
       "      <th>0</th>\n",
       "      <td>43045</td>\n",
       "      <td>4</td>\n",
       "      <td>5</td>\n",
       "      <td>41.0</td>\n",
       "      <td>1832.0</td>\n",
       "      <td>41</td>\n",
       "      <td>0</td>\n",
       "      <td>10.250000</td>\n",
       "      <td>20.500000</td>\n",
       "      <td>1448</td>\n",
       "      <td>...</td>\n",
       "      <td>5</td>\n",
       "      <td>1832</td>\n",
       "      <td>-1</td>\n",
       "      <td>4116</td>\n",
       "      <td>1</td>\n",
       "      <td>0</td>\n",
       "      <td>0.00</td>\n",
       "      <td>0.000</td>\n",
       "      <td>0.0</td>\n",
       "      <td>0.0</td>\n",
       "    </tr>\n",
       "    <tr>\n",
       "      <th>1</th>\n",
       "      <td>1</td>\n",
       "      <td>1</td>\n",
       "      <td>1</td>\n",
       "      <td>0.0</td>\n",
       "      <td>0.0</td>\n",
       "      <td>0</td>\n",
       "      <td>0</td>\n",
       "      <td>0.000000</td>\n",
       "      <td>0.000000</td>\n",
       "      <td>0</td>\n",
       "      <td>...</td>\n",
       "      <td>1</td>\n",
       "      <td>0</td>\n",
       "      <td>-1</td>\n",
       "      <td>4116</td>\n",
       "      <td>0</td>\n",
       "      <td>0</td>\n",
       "      <td>0.00</td>\n",
       "      <td>0.000</td>\n",
       "      <td>0.0</td>\n",
       "      <td>0.0</td>\n",
       "    </tr>\n",
       "    <tr>\n",
       "      <th>2</th>\n",
       "      <td>93815</td>\n",
       "      <td>4</td>\n",
       "      <td>5</td>\n",
       "      <td>41.0</td>\n",
       "      <td>1665.0</td>\n",
       "      <td>41</td>\n",
       "      <td>0</td>\n",
       "      <td>10.250000</td>\n",
       "      <td>20.500000</td>\n",
       "      <td>1448</td>\n",
       "      <td>...</td>\n",
       "      <td>5</td>\n",
       "      <td>1665</td>\n",
       "      <td>-1</td>\n",
       "      <td>2058</td>\n",
       "      <td>1</td>\n",
       "      <td>0</td>\n",
       "      <td>0.00</td>\n",
       "      <td>0.000</td>\n",
       "      <td>0.0</td>\n",
       "      <td>0.0</td>\n",
       "    </tr>\n",
       "    <tr>\n",
       "      <th>3</th>\n",
       "      <td>1</td>\n",
       "      <td>1</td>\n",
       "      <td>1</td>\n",
       "      <td>0.0</td>\n",
       "      <td>0.0</td>\n",
       "      <td>0</td>\n",
       "      <td>0</td>\n",
       "      <td>0.000000</td>\n",
       "      <td>0.000000</td>\n",
       "      <td>0</td>\n",
       "      <td>...</td>\n",
       "      <td>1</td>\n",
       "      <td>0</td>\n",
       "      <td>-1</td>\n",
       "      <td>2058</td>\n",
       "      <td>0</td>\n",
       "      <td>0</td>\n",
       "      <td>0.00</td>\n",
       "      <td>0.000</td>\n",
       "      <td>0.0</td>\n",
       "      <td>0.0</td>\n",
       "    </tr>\n",
       "    <tr>\n",
       "      <th>4</th>\n",
       "      <td>119811476</td>\n",
       "      <td>34</td>\n",
       "      <td>1</td>\n",
       "      <td>10945.0</td>\n",
       "      <td>355.0</td>\n",
       "      <td>657</td>\n",
       "      <td>90</td>\n",
       "      <td>321.911765</td>\n",
       "      <td>121.130875</td>\n",
       "      <td>355</td>\n",
       "      <td>...</td>\n",
       "      <td>1</td>\n",
       "      <td>355</td>\n",
       "      <td>-1</td>\n",
       "      <td>-1</td>\n",
       "      <td>34</td>\n",
       "      <td>0</td>\n",
       "      <td>5887718.25</td>\n",
       "      <td>2615219.556</td>\n",
       "      <td>9011009.0</td>\n",
       "      <td>3481402.0</td>\n",
       "    </tr>\n",
       "  </tbody>\n",
       "</table>\n",
       "<p>5 rows × 72 columns</p>\n",
       "</div>"
      ],
      "text/plain": [
       "   Flow Duration  Tot Fwd Pkts  Tot Bwd Pkts  TotLen Fwd Pkts  \\\n",
       "0          43045             4             5             41.0   \n",
       "1              1             1             1              0.0   \n",
       "2          93815             4             5             41.0   \n",
       "3              1             1             1              0.0   \n",
       "4      119811476            34             1          10945.0   \n",
       "\n",
       "   TotLen Bwd Pkts  Fwd Pkt Len Max  Fwd Pkt Len Min  Fwd Pkt Len Mean  \\\n",
       "0           1832.0               41                0         10.250000   \n",
       "1              0.0                0                0          0.000000   \n",
       "2           1665.0               41                0         10.250000   \n",
       "3              0.0                0                0          0.000000   \n",
       "4            355.0              657               90        321.911765   \n",
       "\n",
       "   Fwd Pkt Len Std  Bwd Pkt Len Max  ...  Subflow Bwd Pkts  Subflow Bwd Byts  \\\n",
       "0        20.500000             1448  ...                 5              1832   \n",
       "1         0.000000                0  ...                 1                 0   \n",
       "2        20.500000             1448  ...                 5              1665   \n",
       "3         0.000000                0  ...                 1                 0   \n",
       "4       121.130875              355  ...                 1               355   \n",
       "\n",
       "   Init Fwd Win Byts  Init Bwd Win Byts  Fwd Act Data Pkts  Fwd Seg Size Min  \\\n",
       "0                 -1               4116                  1                 0   \n",
       "1                 -1               4116                  0                 0   \n",
       "2                 -1               2058                  1                 0   \n",
       "3                 -1               2058                  0                 0   \n",
       "4                 -1                 -1                 34                 0   \n",
       "\n",
       "   Active Mean   Active Std  Active Max  Active Min  \n",
       "0         0.00        0.000         0.0         0.0  \n",
       "1         0.00        0.000         0.0         0.0  \n",
       "2         0.00        0.000         0.0         0.0  \n",
       "3         0.00        0.000         0.0         0.0  \n",
       "4   5887718.25  2615219.556   9011009.0   3481402.0  \n",
       "\n",
       "[5 rows x 72 columns]"
      ]
     },
     "execution_count": 54,
     "metadata": {},
     "output_type": "execute_result"
    }
   ],
   "source": [
    "X.head()"
   ]
  },
  {
   "cell_type": "code",
   "execution_count": null,
   "metadata": {},
   "outputs": [],
   "source": []
  },
  {
   "cell_type": "code",
   "execution_count": 55,
   "metadata": {},
   "outputs": [],
   "source": [
    "def clean_dataset(df):\n",
    "    assert isinstance(df, pd.DataFrame), \"df needs to be a pd.DataFrame\"\n",
    "    df.dropna(inplace=True)\n",
    "    indices_to_keep = ~df.isin([np.nan, np.inf, -np.inf]).any(1)\n",
    "    return df[indices_to_keep].astype(np.float64)"
   ]
  },
  {
   "cell_type": "code",
   "execution_count": 56,
   "metadata": {},
   "outputs": [
    {
     "name": "stderr",
     "output_type": "stream",
     "text": [
      "/var/folders/5p/r7sxm1vs0xl0zn3w4fwklrxw0000gn/T/ipykernel_46787/779877997.py:2: SettingWithCopyWarning: \n",
      "A value is trying to be set on a copy of a slice from a DataFrame\n",
      "\n",
      "See the caveats in the documentation: https://pandas.pydata.org/pandas-docs/stable/user_guide/indexing.html#returning-a-view-versus-a-copy\n",
      "  X.replace([np.inf, -np.inf], np.nan, inplace=True)\n"
     ]
    }
   ],
   "source": [
    "# clean_dataset(X)\n",
    "X.replace([np.inf, -np.inf], np.nan, inplace=True)\n",
    "X = np.nan_to_num(X)\n",
    "X = np.nan_to_num(X)\n",
    "df.drop(df[df['Flow Byts/s'] == 'Infinity'].index, inplace = True)\n",
    "df.drop(df[df['Flow Pkts/s'] == 'Infinity'].index, inplace = True)\n"
   ]
  },
  {
   "cell_type": "code",
   "execution_count": 112,
   "metadata": {},
   "outputs": [
    {
     "name": "stdout",
     "output_type": "stream",
     "text": [
      "[-2.97481622e-13  1.66521267e-12 -1.36773105e-12] [[ 1.97314013e-07 -5.93960749e-10 -6.04931417e-10 -2.75873163e-07\n",
      "  -5.68862492e-07 -7.31297671e-10 -2.00258164e-11 -3.31082344e-10\n",
      "  -2.95159901e-10 -3.65278021e-10  3.67054752e-11 -4.88631973e-10\n",
      "  -1.80693125e-10  6.68649919e-07 -3.55945539e-08  4.43910255e-07\n",
      "   1.25904771e-08 -4.00257144e-07 -1.79589543e-07 -1.89156244e-07\n",
      "  -4.04854796e-07  3.26953675e-08  3.64602195e-07  1.58345457e-07\n",
      "  -1.01887917e-09 -1.00257645e-07  2.34220354e-07  1.44141234e-08\n",
      "  -1.13540191e-06 -9.70806192e-09 -7.18869705e-09 -3.86439821e-08\n",
      "   3.04942828e-09 -1.24210052e-11 -5.48931093e-10 -5.43678376e-10\n",
      "  -3.12536984e-10 -1.68086386e-07 -5.27935446e-10 -1.46516716e-09\n",
      "  -2.93108929e-13 -5.92888932e-10 -3.31082344e-10 -4.88631973e-10\n",
      "  -1.92787275e-10 -7.11508022e-08 -1.15155707e-10 -1.86463510e-07\n",
      "   3.82408674e-10  5.58716303e-07 -1.08091986e-07 -9.87888022e-08\n",
      "  -2.55714570e-10 -3.87142626e-11  4.82608490e-07  2.95380854e-07\n",
      "   4.55508922e-07  2.41541499e-07]\n",
      " [-4.78541082e-07  5.14428402e-10  1.12425585e-09 -6.97749212e-08\n",
      "   1.25644696e-06  1.75467945e-09  4.19330148e-12  6.64987304e-10\n",
      "   7.73291502e-10  1.41859960e-09 -1.23491420e-11  1.02089787e-09\n",
      "   6.07808570e-10 -3.24184869e-07 -9.17327671e-08 -7.92829648e-08\n",
      "  -1.72587651e-07  4.63254971e-07 -4.37256775e-08  4.65250035e-07\n",
      "  -1.24421192e-07  3.78545616e-07 -4.87150426e-07  3.75181719e-07\n",
      "   1.23686806e-08  7.53283470e-08 -3.19978745e-07  1.04096412e-07\n",
      "   2.39923313e-06  1.18861553e-08  2.01501241e-08 -3.47949098e-08\n",
      "  -5.69378573e-08 -2.10179139e-11  1.72925417e-09  1.05684881e-09\n",
      "   8.40473273e-10  3.95869326e-07  7.50991971e-10  2.07988002e-09\n",
      "   1.65320997e-12  1.16042842e-09  6.64987304e-10  1.02089787e-09\n",
      "   2.81805902e-10  1.01144598e-07 -1.69753541e-10 -1.99775455e-07\n",
      "  -2.72765799e-10 -3.33684485e-07  1.93314659e-07  1.84162545e-07\n",
      "   3.76749326e-11  7.02639736e-11 -7.43511218e-07 -3.91752229e-07\n",
      "  -1.12026938e-06 -4.61101479e-07]\n",
      " [ 2.81227069e-07  7.95323468e-11 -5.19324436e-10  3.45648084e-07\n",
      "  -6.87584467e-07 -1.02338178e-09  1.58325149e-11 -3.33904960e-10\n",
      "  -4.78131601e-10 -1.05332158e-09 -2.43563332e-11 -5.32265894e-10\n",
      "  -4.27115445e-10 -3.44465051e-07  1.27327321e-07 -3.64627290e-07\n",
      "   1.59997174e-07 -6.29978266e-08  2.23315220e-07 -2.76093791e-07\n",
      "   5.29275988e-07 -4.11240983e-07  1.22548231e-07 -5.33527175e-07\n",
      "  -1.13498014e-08  2.49292980e-08  8.57583916e-08 -1.18510535e-07\n",
      "  -1.26383122e-06 -2.17809334e-09 -1.29614271e-08  7.34388920e-08\n",
      "   5.38884290e-08  3.34389190e-11 -1.18032308e-09 -5.13170435e-10\n",
      "  -5.27936289e-10 -2.27782940e-07 -2.23056524e-10 -6.14712852e-10\n",
      "  -1.36010104e-12 -5.67539492e-10 -3.33904960e-10 -5.32265894e-10\n",
      "  -8.90186274e-11 -2.99937957e-08  2.84909248e-10  3.86238965e-07\n",
      "  -1.09642876e-10 -2.25031818e-07 -8.52226735e-08 -8.53737427e-08\n",
      "   2.18039637e-10 -3.15497111e-11  2.60902728e-07  9.63713746e-08\n",
      "   6.64760457e-07  2.19559980e-07]]\n"
     ]
    },
    {
     "name": "stderr",
     "output_type": "stream",
     "text": [
      "C:\\Users\\hp\\Anaconda3\\lib\\site-packages\\sklearn\\linear_model\\logistic.py:758: ConvergenceWarning: lbfgs failed to converge. Increase the number of iterations.\n",
      "  \"of iterations.\", ConvergenceWarning)\n"
     ]
    }
   ],
   "source": [
    "from sklearn.linear_model import LogisticRegression\n",
    "model = LogisticRegression(multi_class='multinomial',solver='lbfgs')\n",
    "model.fit(X, y)\n",
    "# ypred = model.predict(X)\n",
    "intercept = model.intercept_\n",
    "coef = model.coef_\n",
    "print(intercept, coef)\n",
    "ypred = model.predict(X)"
   ]
  },
  {
   "cell_type": "code",
   "execution_count": 58,
   "metadata": {},
   "outputs": [],
   "source": [
    "X = df.iloc[:,:-1]\n",
    "y =df['Label']"
   ]
  },
  {
   "cell_type": "code",
   "execution_count": 15,
   "metadata": {},
   "outputs": [
    {
     "data": {
      "text/plain": [
       "545"
      ]
     },
     "execution_count": 15,
     "metadata": {},
     "output_type": "execute_result"
    }
   ],
   "source": []
  },
  {
   "cell_type": "code",
   "execution_count": null,
   "metadata": {},
   "outputs": [],
   "source": []
  },
  {
   "cell_type": "code",
   "execution_count": null,
   "metadata": {},
   "outputs": [],
   "source": []
  },
  {
   "cell_type": "code",
   "execution_count": 59,
   "metadata": {},
   "outputs": [
    {
     "ename": "ValueError",
     "evalue": "too many values to unpack (expected 4)",
     "output_type": "error",
     "traceback": [
      "\u001b[0;31m---------------------------------------------------------------------------\u001b[0m",
      "\u001b[0;31mValueError\u001b[0m                                Traceback (most recent call last)",
      "\u001b[0;32m/var/folders/5p/r7sxm1vs0xl0zn3w4fwklrxw0000gn/T/ipykernel_46787/1735300508.py\u001b[0m in \u001b[0;36m<module>\u001b[0;34m\u001b[0m\n\u001b[1;32m      1\u001b[0m \u001b[0;32mfrom\u001b[0m \u001b[0msklearn\u001b[0m\u001b[0;34m.\u001b[0m\u001b[0mmetrics\u001b[0m \u001b[0;32mimport\u001b[0m \u001b[0mconfusion_matrix\u001b[0m\u001b[0;34m\u001b[0m\u001b[0;34m\u001b[0m\u001b[0m\n\u001b[0;32m----> 2\u001b[0;31m \u001b[0mtn\u001b[0m\u001b[0;34m,\u001b[0m \u001b[0mfp\u001b[0m\u001b[0;34m,\u001b[0m \u001b[0mfn\u001b[0m\u001b[0;34m,\u001b[0m \u001b[0mtp\u001b[0m \u001b[0;34m=\u001b[0m \u001b[0mconfusion_matrix\u001b[0m\u001b[0;34m(\u001b[0m\u001b[0my\u001b[0m\u001b[0;34m,\u001b[0m\u001b[0mypred\u001b[0m\u001b[0;34m)\u001b[0m\u001b[0;34m.\u001b[0m\u001b[0mravel\u001b[0m\u001b[0;34m(\u001b[0m\u001b[0;34m)\u001b[0m\u001b[0;34m\u001b[0m\u001b[0;34m\u001b[0m\u001b[0m\n\u001b[0m",
      "\u001b[0;31mValueError\u001b[0m: too many values to unpack (expected 4)"
     ]
    }
   ],
   "source": [
    "from sklearn.metrics import confusion_matrix\n",
    "tn, fp, fn, tp = confusion_matrix(y,ypred).ravel()"
   ]
  },
  {
   "cell_type": "code",
   "execution_count": 60,
   "metadata": {},
   "outputs": [
    {
     "name": "stdout",
     "output_type": "stream",
     "text": [
      "69   41   16   97\n"
     ]
    }
   ],
   "source": [
    "print (tn, \" \", fp, \" \", fn, \" \", tp)"
   ]
  },
  {
   "cell_type": "code",
   "execution_count": 113,
   "metadata": {},
   "outputs": [
    {
     "name": "stdout",
     "output_type": "stream",
     "text": [
      "Mean Accuracy: 0.807 (0.052)\n"
     ]
    }
   ],
   "source": [
    "from numpy import std\n",
    "from numpy import mean\n",
    "from sklearn.datasets import make_classification\n",
    "from sklearn.model_selection import cross_val_score\n",
    "from sklearn.model_selection import RepeatedStratifiedKFold\n",
    "cv = RepeatedStratifiedKFold(n_splits=10, n_repeats=3, random_state=1)\n",
    "# evaluate the model and collect the scores\n",
    "n_scores = cross_val_score(model, X, y, scoring='accuracy', cv=cv, n_jobs=-1)\n",
    "# report the model performance\n",
    "print('Mean Accuracy: %.3f (%.3f)' % (mean(n_scores), std(n_scores)))"
   ]
  },
  {
   "cell_type": "code",
   "execution_count": 47,
   "metadata": {},
   "outputs": [],
   "source": [
    "# from sklearn import metrics\n",
    "# # import matplotlib.pyplot as plt\n",
    "# # import itertools\n",
    "\n",
    "# # score = metrics.accuracy_score(y, ypred)\n",
    "# # print(\"accuracy:   %0.3f\" % score)\n",
    "\n",
    "# # cm = metrics.confusion_matrix(y, ypred)\n",
    "# # plot_confusion_matrix(cm, classes=['Tor', 'VPN','No VPN'])\n",
    "# def plot_confusion_matrix(cm, classes,\n",
    "#                           normalize=False,\n",
    "#                           title='Confusion matrix',\n",
    "#                           cmap=plt.cm.Blues):\n",
    "\n",
    "#     plt.imshow(cm, interpolation='nearest', cmap=cmap)\n",
    "#     plt.title(title)\n",
    "#     plt.colorbar()\n",
    "#     tick_marks = np.arange(len(classes))\n",
    "#     plt.xticks(tick_marks, classes, rotation=45)\n",
    "#     plt.yticks(tick_marks, classes)\n",
    "\n",
    "#     if normalize:\n",
    "#         cm = cm.astype('float') / cm.sum(axis=1)[:, np.newaxis]\n",
    "#         print(\"Normalized confusion matrix\")\n",
    "#     else:\n",
    "#         print('Confusion matrix, without normalization')\n",
    "\n",
    "#     thresh = cm.max() / 2.\n",
    "#     for i, j in itertools.product(range(cm.shape[0]), range(cm.shape[1])):\n",
    "#         plt.text(j, i, cm[i, j],\n",
    "#                  horizontalalignment=\"center\",\n",
    "#                  color=\"white\" if cm[i, j] > thresh else \"black\")\n",
    "\n",
    "#     plt.tight_layout()\n",
    "#     plt.ylabel('True label')\n",
    "#     plt.xlabel('Predicted label')"
   ]
  },
  {
   "cell_type": "code",
   "execution_count": 114,
   "metadata": {},
   "outputs": [
    {
     "name": "stdout",
     "output_type": "stream",
     "text": [
      "Mean Accuracy: 0.822 (0.051)\n"
     ]
    }
   ],
   "source": [
    "#k-NN Model\n",
    "\n",
    "from sklearn import datasets\n",
    "from sklearn.metrics import confusion_matrix\n",
    "from sklearn.model_selection import train_test_split\n",
    "\n",
    "from sklearn.neighbors import KNeighborsClassifier\n",
    "knn = KNeighborsClassifier(n_neighbors = 3).fit(X, y)\n",
    "\n",
    "from numpy import std\n",
    "from numpy import mean\n",
    "from sklearn.datasets import make_classification\n",
    "from sklearn.model_selection import cross_val_score\n",
    "from sklearn.model_selection import RepeatedStratifiedKFold\n",
    "cv = RepeatedStratifiedKFold(n_splits=10, n_repeats=3, random_state=1)\n",
    "# evaluate the model and collect the scores\n",
    "n_scores = cross_val_score(knn, X, y, scoring='accuracy', cv=cv, n_jobs=-1)\n",
    "# report the model performance\n",
    "print('Mean Accuracy: %.3f (%.3f)' % (mean(n_scores), std(n_scores)))\n",
    "\n"
   ]
  },
  {
   "cell_type": "code",
   "execution_count": null,
   "metadata": {},
   "outputs": [],
   "source": []
  },
  {
   "cell_type": "code",
   "execution_count": 103,
   "metadata": {},
   "outputs": [],
   "source": [
    "# Random Forest\n",
    "#Importing Libraries\n",
    "import numpy as np\n",
    "import pandas as pd\n",
    "from sklearn.model_selection import train_test_split\n",
    "from sklearn.preprocessing import StandardScaler\n",
    "from sklearn.ensemble import RandomForestClassifier\n",
    "from sklearn.metrics import confusion_matrix\n",
    "from sklearn.externals import joblib"
   ]
  },
  {
   "cell_type": "code",
   "execution_count": 109,
   "metadata": {},
   "outputs": [
    {
     "data": {
      "text/plain": [
       "RandomForestClassifier(bootstrap=True, class_weight=None, criterion='entropy',\n",
       "            max_depth=None, max_features='auto', max_leaf_nodes=None,\n",
       "            min_impurity_decrease=0.0, min_impurity_split=None,\n",
       "            min_samples_leaf=1, min_samples_split=2,\n",
       "            min_weight_fraction_leaf=0.0, n_estimators=100, n_jobs=None,\n",
       "            oob_score=False, random_state=42, verbose=0, warm_start=False)"
      ]
     },
     "execution_count": 109,
     "metadata": {},
     "output_type": "execute_result"
    }
   ],
   "source": [
    "classifier = RandomForestClassifier(n_estimators = 100, criterion = 'entropy', random_state = 42)\n",
    "classifier.fit(X, y)"
   ]
  },
  {
   "cell_type": "code",
   "execution_count": 106,
   "metadata": {},
   "outputs": [],
   "source": [
    "# Predicting the Test set results\n",
    "ypred = classifier.predict(X)"
   ]
  },
  {
   "cell_type": "code",
   "execution_count": 110,
   "metadata": {},
   "outputs": [
    {
     "name": "stdout",
     "output_type": "stream",
     "text": [
      "Mean Accuracy: 0.894 (0.040)\n"
     ]
    }
   ],
   "source": [
    "from numpy import std\n",
    "from numpy import mean\n",
    "from sklearn.datasets import make_classification\n",
    "from sklearn.model_selection import cross_val_score\n",
    "from sklearn.model_selection import RepeatedStratifiedKFold\n",
    "cv = RepeatedStratifiedKFold(n_splits=10, n_repeats=3, random_state=1)\n",
    "# evaluate the model and collect the scores\n",
    "n_scores = cross_val_score(classifier, X, y, scoring='accuracy', cv=cv, n_jobs=-1)\n",
    "# report the model performance\n",
    "print('Mean Accuracy: %.3f (%.3f)' % (mean(n_scores), std(n_scores)))"
   ]
  },
  {
   "cell_type": "code",
   "execution_count": null,
   "metadata": {},
   "outputs": [],
   "source": []
  }
 ],
 "metadata": {
  "kernelspec": {
   "display_name": "Python 3",
   "language": "python",
   "name": "python3"
  },
  "language_info": {
   "codemirror_mode": {
    "name": "ipython",
    "version": 3
   },
   "file_extension": ".py",
   "mimetype": "text/x-python",
   "name": "python",
   "nbconvert_exporter": "python",
   "pygments_lexer": "ipython3",
   "version": "3.6.6"
  }
 },
 "nbformat": 4,
 "nbformat_minor": 2
}
