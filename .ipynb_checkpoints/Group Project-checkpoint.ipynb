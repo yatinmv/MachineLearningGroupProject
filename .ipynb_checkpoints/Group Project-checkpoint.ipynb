{
 "cells": [
  {
   "cell_type": "code",
   "execution_count": 1,
   "metadata": {},
   "outputs": [],
   "source": [
    "import numpy as np\n",
    "import pandas as pd\n",
    "import seaborn as sns\n",
    "import matplotlib.pyplot as plt\n",
    "%matplotlib inline"
   ]
  },
  {
   "cell_type": "code",
   "execution_count": 2,
   "metadata": {},
   "outputs": [
    {
     "name": "stdout",
     "output_type": "stream",
     "text": [
      "   Dst Port  Protocol  Flow Duration  Tot Fwd Pkts  Tot Bwd Pkts  \\\n",
      "0      7000         6          43045             4             5   \n",
      "1     63584         6              1             1             1   \n",
      "2      7000         6          93815             4             5   \n",
      "3     63585         6              1             1             1   \n",
      "4      5353        17      119811476            34             1   \n",
      "\n",
      "   TotLen Fwd Pkts  TotLen Bwd Pkts  Fwd Pkt Len Max  Fwd Pkt Len Min  \\\n",
      "0             41.0           1832.0               41                0   \n",
      "1              0.0              0.0                0                0   \n",
      "2             41.0           1665.0               41                0   \n",
      "3              0.0              0.0                0                0   \n",
      "4          10945.0            355.0              657               90   \n",
      "\n",
      "   Fwd Pkt Len Mean  ...    Fwd Seg Size Min  Active Mean   Active Std  \\\n",
      "0         10.250000  ...                   0         0.00        0.000   \n",
      "1          0.000000  ...                   0         0.00        0.000   \n",
      "2         10.250000  ...                   0         0.00        0.000   \n",
      "3          0.000000  ...                   0         0.00        0.000   \n",
      "4        321.911765  ...                   0   5887718.25  2615219.556   \n",
      "\n",
      "   Active Max  Active Min   Idle Mean    Idle Std    Idle Max   Idle Min  \\\n",
      "0         0.0         0.0         0.0         0.0         0.0        0.0   \n",
      "1         0.0         0.0         0.0         0.0         0.0        0.0   \n",
      "2         0.0         0.0         0.0         0.0         0.0        0.0   \n",
      "3         0.0         0.0         0.0         0.0         0.0        0.0   \n",
      "4   9011009.0   3481402.0  19200000.0  18500000.0  45000000.0  5734751.0   \n",
      "\n",
      "   Label  \n",
      "0    VPN  \n",
      "1    VPN  \n",
      "2    VPN  \n",
      "3    VPN  \n",
      "4    VPN  \n",
      "\n",
      "[5 rows x 79 columns]\n"
     ]
    }
   ],
   "source": [
    "df = pd.read_csv('Combined_VPN_NonVPN.csv')\n",
    "print(df.head())\n",
    "X = df.iloc[:,:-1]\n",
    "y =df['Label']"
   ]
  },
  {
   "cell_type": "code",
   "execution_count": 3,
   "metadata": {},
   "outputs": [
    {
     "data": {
      "text/html": [
       "<div>\n",
       "<style scoped>\n",
       "    .dataframe tbody tr th:only-of-type {\n",
       "        vertical-align: middle;\n",
       "    }\n",
       "\n",
       "    .dataframe tbody tr th {\n",
       "        vertical-align: top;\n",
       "    }\n",
       "\n",
       "    .dataframe thead th {\n",
       "        text-align: right;\n",
       "    }\n",
       "</style>\n",
       "<table border=\"1\" class=\"dataframe\">\n",
       "  <thead>\n",
       "    <tr style=\"text-align: right;\">\n",
       "      <th></th>\n",
       "      <th>Dst Port</th>\n",
       "      <th>Protocol</th>\n",
       "      <th>Flow Duration</th>\n",
       "      <th>Tot Fwd Pkts</th>\n",
       "      <th>Tot Bwd Pkts</th>\n",
       "      <th>TotLen Fwd Pkts</th>\n",
       "      <th>TotLen Bwd Pkts</th>\n",
       "      <th>Fwd Pkt Len Max</th>\n",
       "      <th>Fwd Pkt Len Min</th>\n",
       "      <th>Fwd Pkt Len Mean</th>\n",
       "      <th>...</th>\n",
       "      <th>Fwd Act Data Pkts</th>\n",
       "      <th>Fwd Seg Size Min</th>\n",
       "      <th>Active Mean</th>\n",
       "      <th>Active Std</th>\n",
       "      <th>Active Max</th>\n",
       "      <th>Active Min</th>\n",
       "      <th>Idle Mean</th>\n",
       "      <th>Idle Std</th>\n",
       "      <th>Idle Max</th>\n",
       "      <th>Idle Min</th>\n",
       "    </tr>\n",
       "  </thead>\n",
       "  <tbody>\n",
       "    <tr>\n",
       "      <th>0</th>\n",
       "      <td>7000</td>\n",
       "      <td>6</td>\n",
       "      <td>43045</td>\n",
       "      <td>4</td>\n",
       "      <td>5</td>\n",
       "      <td>41.0</td>\n",
       "      <td>1832.0</td>\n",
       "      <td>41</td>\n",
       "      <td>0</td>\n",
       "      <td>10.250000</td>\n",
       "      <td>...</td>\n",
       "      <td>1</td>\n",
       "      <td>0</td>\n",
       "      <td>0.00</td>\n",
       "      <td>0.000</td>\n",
       "      <td>0.0</td>\n",
       "      <td>0.0</td>\n",
       "      <td>0.0</td>\n",
       "      <td>0.0</td>\n",
       "      <td>0.0</td>\n",
       "      <td>0.0</td>\n",
       "    </tr>\n",
       "    <tr>\n",
       "      <th>1</th>\n",
       "      <td>63584</td>\n",
       "      <td>6</td>\n",
       "      <td>1</td>\n",
       "      <td>1</td>\n",
       "      <td>1</td>\n",
       "      <td>0.0</td>\n",
       "      <td>0.0</td>\n",
       "      <td>0</td>\n",
       "      <td>0</td>\n",
       "      <td>0.000000</td>\n",
       "      <td>...</td>\n",
       "      <td>0</td>\n",
       "      <td>0</td>\n",
       "      <td>0.00</td>\n",
       "      <td>0.000</td>\n",
       "      <td>0.0</td>\n",
       "      <td>0.0</td>\n",
       "      <td>0.0</td>\n",
       "      <td>0.0</td>\n",
       "      <td>0.0</td>\n",
       "      <td>0.0</td>\n",
       "    </tr>\n",
       "    <tr>\n",
       "      <th>2</th>\n",
       "      <td>7000</td>\n",
       "      <td>6</td>\n",
       "      <td>93815</td>\n",
       "      <td>4</td>\n",
       "      <td>5</td>\n",
       "      <td>41.0</td>\n",
       "      <td>1665.0</td>\n",
       "      <td>41</td>\n",
       "      <td>0</td>\n",
       "      <td>10.250000</td>\n",
       "      <td>...</td>\n",
       "      <td>1</td>\n",
       "      <td>0</td>\n",
       "      <td>0.00</td>\n",
       "      <td>0.000</td>\n",
       "      <td>0.0</td>\n",
       "      <td>0.0</td>\n",
       "      <td>0.0</td>\n",
       "      <td>0.0</td>\n",
       "      <td>0.0</td>\n",
       "      <td>0.0</td>\n",
       "    </tr>\n",
       "    <tr>\n",
       "      <th>3</th>\n",
       "      <td>63585</td>\n",
       "      <td>6</td>\n",
       "      <td>1</td>\n",
       "      <td>1</td>\n",
       "      <td>1</td>\n",
       "      <td>0.0</td>\n",
       "      <td>0.0</td>\n",
       "      <td>0</td>\n",
       "      <td>0</td>\n",
       "      <td>0.000000</td>\n",
       "      <td>...</td>\n",
       "      <td>0</td>\n",
       "      <td>0</td>\n",
       "      <td>0.00</td>\n",
       "      <td>0.000</td>\n",
       "      <td>0.0</td>\n",
       "      <td>0.0</td>\n",
       "      <td>0.0</td>\n",
       "      <td>0.0</td>\n",
       "      <td>0.0</td>\n",
       "      <td>0.0</td>\n",
       "    </tr>\n",
       "    <tr>\n",
       "      <th>4</th>\n",
       "      <td>5353</td>\n",
       "      <td>17</td>\n",
       "      <td>119811476</td>\n",
       "      <td>34</td>\n",
       "      <td>1</td>\n",
       "      <td>10945.0</td>\n",
       "      <td>355.0</td>\n",
       "      <td>657</td>\n",
       "      <td>90</td>\n",
       "      <td>321.911765</td>\n",
       "      <td>...</td>\n",
       "      <td>34</td>\n",
       "      <td>0</td>\n",
       "      <td>5887718.25</td>\n",
       "      <td>2615219.556</td>\n",
       "      <td>9011009.0</td>\n",
       "      <td>3481402.0</td>\n",
       "      <td>19200000.0</td>\n",
       "      <td>18500000.0</td>\n",
       "      <td>45000000.0</td>\n",
       "      <td>5734751.0</td>\n",
       "    </tr>\n",
       "  </tbody>\n",
       "</table>\n",
       "<p>5 rows × 78 columns</p>\n",
       "</div>"
      ],
      "text/plain": [
       "   Dst Port  Protocol  Flow Duration  Tot Fwd Pkts  Tot Bwd Pkts  \\\n",
       "0      7000         6          43045             4             5   \n",
       "1     63584         6              1             1             1   \n",
       "2      7000         6          93815             4             5   \n",
       "3     63585         6              1             1             1   \n",
       "4      5353        17      119811476            34             1   \n",
       "\n",
       "   TotLen Fwd Pkts  TotLen Bwd Pkts  Fwd Pkt Len Max  Fwd Pkt Len Min  \\\n",
       "0             41.0           1832.0               41                0   \n",
       "1              0.0              0.0                0                0   \n",
       "2             41.0           1665.0               41                0   \n",
       "3              0.0              0.0                0                0   \n",
       "4          10945.0            355.0              657               90   \n",
       "\n",
       "   Fwd Pkt Len Mean    ...      Fwd Act Data Pkts  Fwd Seg Size Min  \\\n",
       "0         10.250000    ...                      1                 0   \n",
       "1          0.000000    ...                      0                 0   \n",
       "2         10.250000    ...                      1                 0   \n",
       "3          0.000000    ...                      0                 0   \n",
       "4        321.911765    ...                     34                 0   \n",
       "\n",
       "   Active Mean   Active Std  Active Max Active Min   Idle Mean    Idle Std  \\\n",
       "0         0.00        0.000         0.0        0.0         0.0         0.0   \n",
       "1         0.00        0.000         0.0        0.0         0.0         0.0   \n",
       "2         0.00        0.000         0.0        0.0         0.0         0.0   \n",
       "3         0.00        0.000         0.0        0.0         0.0         0.0   \n",
       "4   5887718.25  2615219.556   9011009.0  3481402.0  19200000.0  18500000.0   \n",
       "\n",
       "     Idle Max   Idle Min  \n",
       "0         0.0        0.0  \n",
       "1         0.0        0.0  \n",
       "2         0.0        0.0  \n",
       "3         0.0        0.0  \n",
       "4  45000000.0  5734751.0  \n",
       "\n",
       "[5 rows x 78 columns]"
      ]
     },
     "execution_count": 3,
     "metadata": {},
     "output_type": "execute_result"
    }
   ],
   "source": [
    "X.head()"
   ]
  },
  {
   "cell_type": "code",
   "execution_count": 4,
   "metadata": {},
   "outputs": [
    {
     "data": {
      "text/plain": [
       "0    VPN\n",
       "1    VPN\n",
       "2    VPN\n",
       "3    VPN\n",
       "4    VPN\n",
       "Name: Label, dtype: object"
      ]
     },
     "execution_count": 4,
     "metadata": {},
     "output_type": "execute_result"
    }
   ],
   "source": [
    "y.head()"
   ]
  },
  {
   "cell_type": "code",
   "execution_count": 54,
   "metadata": {},
   "outputs": [],
   "source": [
    "def clean_dataset(df):\n",
    "    assert isinstance(df, pd.DataFrame), \"df needs to be a pd.DataFrame\"\n",
    "    df.dropna(inplace=True)\n",
    "    indices_to_keep = ~df.isin([np.nan, np.inf, -np.inf]).any(1)\n",
    "    return df[indices_to_keep].astype(np.float64)"
   ]
  },
  {
   "cell_type": "code",
   "execution_count": 12,
   "metadata": {},
   "outputs": [
    {
     "name": "stderr",
     "output_type": "stream",
     "text": [
      "C:\\Users\\hp\\Anaconda3\\lib\\site-packages\\pandas\\core\\frame.py:3798: SettingWithCopyWarning: \n",
      "A value is trying to be set on a copy of a slice from a DataFrame\n",
      "\n",
      "See the caveats in the documentation: http://pandas.pydata.org/pandas-docs/stable/indexing.html#indexing-view-versus-copy\n",
      "  method=method)\n"
     ]
    }
   ],
   "source": [
    "# clean_dataset(X)\n",
    "X.replace([np.inf, -np.inf], np.nan, inplace=True)\n",
    "X = np.nan_to_num(X)\n",
    "X = np.nan_to_num(X)\n",
    "df.drop(df[df['Flow Byts/s'] == 'Infinity'].index, inplace = True)\n",
    "df.drop(df[df['Flow Pkts/s'] == 'Infinity'].index, inplace = True)\n"
   ]
  },
  {
   "cell_type": "code",
   "execution_count": 29,
   "metadata": {},
   "outputs": [
    {
     "name": "stdout",
     "output_type": "stream",
     "text": [
      "[-1.90797511e-10] [[-3.85055845e-06 -2.42190529e-09  5.01704218e-08 -1.45939547e-09\n",
      "  -1.00821335e-08  1.41227343e-07 -1.94673306e-06 -2.66080211e-08\n",
      "  -1.65598490e-08 -1.81981228e-08 -4.00719745e-09 -4.16257449e-08\n",
      "  -1.90226731e-08 -2.68167694e-08 -1.06711197e-08 -1.35727110e-05\n",
      "  -3.19864283e-06 -7.20286964e-07  4.92946371e-07 -6.60906600e-08\n",
      "   7.17823832e-07 -7.32546694e-08  8.47700470e-07 -6.53112320e-07\n",
      "   9.81439207e-08 -9.05233544e-07  7.04383085e-08 -2.00970836e-06\n",
      "   2.43294383e-06 -8.31310383e-07 -6.16356629e-06  0.00000000e+00\n",
      "  -1.74719685e-12  0.00000000e+00  0.00000000e+00 -5.92871481e-07\n",
      "  -3.94937614e-07 -1.46962886e-06 -1.72901397e-06 -1.88382834e-08\n",
      "  -4.34906025e-08 -2.40684551e-08 -9.53081435e-09 -3.08807393e-06\n",
      "  -1.63454952e-11 -1.78346516e-11 -3.47424387e-12 -1.74719685e-12\n",
      "  -3.27454219e-11  0.00000000e+00  0.00000000e+00  0.00000000e+00\n",
      "  -5.49327284e-11 -3.09220487e-08 -1.81981228e-08 -2.68167694e-08\n",
      "   0.00000000e+00  0.00000000e+00  0.00000000e+00  0.00000000e+00]]\n"
     ]
    },
    {
     "name": "stderr",
     "output_type": "stream",
     "text": [
      "C:\\Users\\hp\\Anaconda3\\lib\\site-packages\\sklearn\\linear_model\\logistic.py:758: ConvergenceWarning: lbfgs failed to converge. Increase the number of iterations.\n",
      "  \"of iterations.\", ConvergenceWarning)\n"
     ]
    }
   ],
   "source": [
    "from sklearn.linear_model import LogisticRegression\n",
    "model = LogisticRegression(solver='lbfgs')\n",
    "model.fit(X, y)\n",
    "# ypred = model.predict(X)\n",
    "intercept = model.intercept_\n",
    "coef = model.coef_\n",
    "print(intercept, coef)\n",
    "ypred = model.predict(X)"
   ]
  },
  {
   "cell_type": "code",
   "execution_count": 13,
   "metadata": {},
   "outputs": [],
   "source": [
    "X = df.iloc[:,:-1]\n",
    "y =df['Label']"
   ]
  },
  {
   "cell_type": "code",
   "execution_count": 14,
   "metadata": {},
   "outputs": [
    {
     "data": {
      "text/plain": [
       "3097"
      ]
     },
     "execution_count": 14,
     "metadata": {},
     "output_type": "execute_result"
    }
   ],
   "source": [
    "len(X)"
   ]
  },
  {
   "cell_type": "code",
   "execution_count": 15,
   "metadata": {},
   "outputs": [
    {
     "data": {
      "text/plain": [
       "3097"
      ]
     },
     "execution_count": 15,
     "metadata": {},
     "output_type": "execute_result"
    }
   ],
   "source": [
    "len(y)"
   ]
  },
  {
   "cell_type": "code",
   "execution_count": 28,
   "metadata": {},
   "outputs": [],
   "source": [
    "X = df.iloc[:,range(60)]"
   ]
  },
  {
   "cell_type": "code",
   "execution_count": 30,
   "metadata": {},
   "outputs": [],
   "source": [
    "from sklearn.metrics import confusion_matrix\n",
    "tn, fp, fn, tp = confusion_matrix(y,ypred).ravel()"
   ]
  },
  {
   "cell_type": "code",
   "execution_count": 31,
   "metadata": {},
   "outputs": [
    {
     "name": "stdout",
     "output_type": "stream",
     "text": [
      "2956   28   107   6\n"
     ]
    }
   ],
   "source": [
    "print (tn, \" \", fp, \" \", fn, \" \", tp)"
   ]
  },
  {
   "cell_type": "code",
   "execution_count": null,
   "metadata": {},
   "outputs": [],
   "source": []
  }
 ],
 "metadata": {
  "kernelspec": {
   "display_name": "Python 3",
   "language": "python",
   "name": "python3"
  },
  "language_info": {
   "codemirror_mode": {
    "name": "ipython",
    "version": 3
   },
   "file_extension": ".py",
   "mimetype": "text/x-python",
   "name": "python",
   "nbconvert_exporter": "python",
   "pygments_lexer": "ipython3",
   "version": "3.6.6"
  }
 },
 "nbformat": 4,
 "nbformat_minor": 2
}
