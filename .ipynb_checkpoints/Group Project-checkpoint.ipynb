{
 "cells": [
  {
   "cell_type": "code",
   "execution_count": 66,
   "metadata": {},
   "outputs": [],
   "source": [
    "import numpy as np\n",
    "import pandas as pd\n",
    "import seaborn as sns\n",
    "import matplotlib.pyplot as plt\n",
    "%matplotlib inline"
   ]
  },
  {
   "cell_type": "code",
   "execution_count": 80,
   "metadata": {},
   "outputs": [
    {
     "name": "stdout",
     "output_type": "stream",
     "text": [
      "   Protocol  Flow Duration  Tot Fwd Pkts  Tot Bwd Pkts  TotLen Fwd Pkts  \\\n",
      "0         6          43045             4             5             41.0   \n",
      "1         6              1             1             1              0.0   \n",
      "2         6          93815             4             5             41.0   \n",
      "3         6              1             1             1              0.0   \n",
      "4        17      119811476            34             1          10945.0   \n",
      "\n",
      "   TotLen Bwd Pkts  Fwd Pkt Len Max  Fwd Pkt Len Min  Fwd Pkt Len Mean  \\\n",
      "0           1832.0               41                0         10.250000   \n",
      "1              0.0                0                0          0.000000   \n",
      "2           1665.0               41                0         10.250000   \n",
      "3              0.0                0                0          0.000000   \n",
      "4            355.0              657               90        321.911765   \n",
      "\n",
      "   Fwd Pkt Len Std  ...    Fwd Act Data Pkts  Fwd Seg Size Min  Active Mean  \\\n",
      "0        20.500000  ...                    1                 0         0.00   \n",
      "1         0.000000  ...                    0                 0         0.00   \n",
      "2        20.500000  ...                    1                 0         0.00   \n",
      "3         0.000000  ...                    0                 0         0.00   \n",
      "4       121.130875  ...                   34                 0   5887718.25   \n",
      "\n",
      "    Active Std  Active Max  Active Min    Idle Std    Idle Max   Idle Min  \\\n",
      "0        0.000         0.0         0.0         0.0         0.0        0.0   \n",
      "1        0.000         0.0         0.0         0.0         0.0        0.0   \n",
      "2        0.000         0.0         0.0         0.0         0.0        0.0   \n",
      "3        0.000         0.0         0.0         0.0         0.0        0.0   \n",
      "4  2615219.556   9011009.0   3481402.0  18500000.0  45000000.0  5734751.0   \n",
      "\n",
      "   Label  \n",
      "0    VPN  \n",
      "1    VPN  \n",
      "2    VPN  \n",
      "3    VPN  \n",
      "4    VPN  \n",
      "\n",
      "[5 rows x 77 columns]\n"
     ]
    }
   ],
   "source": [
    "df = pd.read_csv('Combined_VPN_NonVPN.csv')\n",
    "print(df.head())\n",
    "X = df.iloc[:,range(73)]\n",
    "y =df['Label']"
   ]
  },
  {
   "cell_type": "code",
   "execution_count": 10,
   "metadata": {},
   "outputs": [
    {
     "data": {
      "text/html": [
       "<div>\n",
       "<style scoped>\n",
       "    .dataframe tbody tr th:only-of-type {\n",
       "        vertical-align: middle;\n",
       "    }\n",
       "\n",
       "    .dataframe tbody tr th {\n",
       "        vertical-align: top;\n",
       "    }\n",
       "\n",
       "    .dataframe thead th {\n",
       "        text-align: right;\n",
       "    }\n",
       "</style>\n",
       "<table border=\"1\" class=\"dataframe\">\n",
       "  <thead>\n",
       "    <tr style=\"text-align: right;\">\n",
       "      <th></th>\n",
       "      <th>Dst Port</th>\n",
       "      <th>Protocol</th>\n",
       "      <th>Flow Duration</th>\n",
       "      <th>Tot Fwd Pkts</th>\n",
       "      <th>Tot Bwd Pkts</th>\n",
       "      <th>TotLen Fwd Pkts</th>\n",
       "      <th>TotLen Bwd Pkts</th>\n",
       "      <th>Fwd Pkt Len Max</th>\n",
       "      <th>Fwd Pkt Len Min</th>\n",
       "      <th>Fwd Pkt Len Mean</th>\n",
       "      <th>...</th>\n",
       "      <th>Fwd Act Data Pkts</th>\n",
       "      <th>Fwd Seg Size Min</th>\n",
       "      <th>Active Mean</th>\n",
       "      <th>Active Std</th>\n",
       "      <th>Active Max</th>\n",
       "      <th>Active Min</th>\n",
       "      <th>Idle Mean</th>\n",
       "      <th>Idle Std</th>\n",
       "      <th>Idle Max</th>\n",
       "      <th>Idle Min</th>\n",
       "    </tr>\n",
       "  </thead>\n",
       "  <tbody>\n",
       "    <tr>\n",
       "      <th>0</th>\n",
       "      <td>7000</td>\n",
       "      <td>6</td>\n",
       "      <td>43045</td>\n",
       "      <td>4</td>\n",
       "      <td>5</td>\n",
       "      <td>41.0</td>\n",
       "      <td>1832.0</td>\n",
       "      <td>41</td>\n",
       "      <td>0</td>\n",
       "      <td>10.250000</td>\n",
       "      <td>...</td>\n",
       "      <td>1</td>\n",
       "      <td>0</td>\n",
       "      <td>0.00</td>\n",
       "      <td>0.000</td>\n",
       "      <td>0.0</td>\n",
       "      <td>0.0</td>\n",
       "      <td>0.0</td>\n",
       "      <td>0.0</td>\n",
       "      <td>0.0</td>\n",
       "      <td>0.0</td>\n",
       "    </tr>\n",
       "    <tr>\n",
       "      <th>1</th>\n",
       "      <td>63584</td>\n",
       "      <td>6</td>\n",
       "      <td>1</td>\n",
       "      <td>1</td>\n",
       "      <td>1</td>\n",
       "      <td>0.0</td>\n",
       "      <td>0.0</td>\n",
       "      <td>0</td>\n",
       "      <td>0</td>\n",
       "      <td>0.000000</td>\n",
       "      <td>...</td>\n",
       "      <td>0</td>\n",
       "      <td>0</td>\n",
       "      <td>0.00</td>\n",
       "      <td>0.000</td>\n",
       "      <td>0.0</td>\n",
       "      <td>0.0</td>\n",
       "      <td>0.0</td>\n",
       "      <td>0.0</td>\n",
       "      <td>0.0</td>\n",
       "      <td>0.0</td>\n",
       "    </tr>\n",
       "    <tr>\n",
       "      <th>2</th>\n",
       "      <td>7000</td>\n",
       "      <td>6</td>\n",
       "      <td>93815</td>\n",
       "      <td>4</td>\n",
       "      <td>5</td>\n",
       "      <td>41.0</td>\n",
       "      <td>1665.0</td>\n",
       "      <td>41</td>\n",
       "      <td>0</td>\n",
       "      <td>10.250000</td>\n",
       "      <td>...</td>\n",
       "      <td>1</td>\n",
       "      <td>0</td>\n",
       "      <td>0.00</td>\n",
       "      <td>0.000</td>\n",
       "      <td>0.0</td>\n",
       "      <td>0.0</td>\n",
       "      <td>0.0</td>\n",
       "      <td>0.0</td>\n",
       "      <td>0.0</td>\n",
       "      <td>0.0</td>\n",
       "    </tr>\n",
       "    <tr>\n",
       "      <th>3</th>\n",
       "      <td>63585</td>\n",
       "      <td>6</td>\n",
       "      <td>1</td>\n",
       "      <td>1</td>\n",
       "      <td>1</td>\n",
       "      <td>0.0</td>\n",
       "      <td>0.0</td>\n",
       "      <td>0</td>\n",
       "      <td>0</td>\n",
       "      <td>0.000000</td>\n",
       "      <td>...</td>\n",
       "      <td>0</td>\n",
       "      <td>0</td>\n",
       "      <td>0.00</td>\n",
       "      <td>0.000</td>\n",
       "      <td>0.0</td>\n",
       "      <td>0.0</td>\n",
       "      <td>0.0</td>\n",
       "      <td>0.0</td>\n",
       "      <td>0.0</td>\n",
       "      <td>0.0</td>\n",
       "    </tr>\n",
       "    <tr>\n",
       "      <th>4</th>\n",
       "      <td>5353</td>\n",
       "      <td>17</td>\n",
       "      <td>119811476</td>\n",
       "      <td>34</td>\n",
       "      <td>1</td>\n",
       "      <td>10945.0</td>\n",
       "      <td>355.0</td>\n",
       "      <td>657</td>\n",
       "      <td>90</td>\n",
       "      <td>321.911765</td>\n",
       "      <td>...</td>\n",
       "      <td>34</td>\n",
       "      <td>0</td>\n",
       "      <td>5887718.25</td>\n",
       "      <td>2615219.556</td>\n",
       "      <td>9011009.0</td>\n",
       "      <td>3481402.0</td>\n",
       "      <td>19200000.0</td>\n",
       "      <td>18500000.0</td>\n",
       "      <td>45000000.0</td>\n",
       "      <td>5734751.0</td>\n",
       "    </tr>\n",
       "  </tbody>\n",
       "</table>\n",
       "<p>5 rows × 78 columns</p>\n",
       "</div>"
      ],
      "text/plain": [
       "   Dst Port  Protocol  Flow Duration  Tot Fwd Pkts  Tot Bwd Pkts  \\\n",
       "0      7000         6          43045             4             5   \n",
       "1     63584         6              1             1             1   \n",
       "2      7000         6          93815             4             5   \n",
       "3     63585         6              1             1             1   \n",
       "4      5353        17      119811476            34             1   \n",
       "\n",
       "   TotLen Fwd Pkts  TotLen Bwd Pkts  Fwd Pkt Len Max  Fwd Pkt Len Min  \\\n",
       "0             41.0           1832.0               41                0   \n",
       "1              0.0              0.0                0                0   \n",
       "2             41.0           1665.0               41                0   \n",
       "3              0.0              0.0                0                0   \n",
       "4          10945.0            355.0              657               90   \n",
       "\n",
       "   Fwd Pkt Len Mean    ...      Fwd Act Data Pkts  Fwd Seg Size Min  \\\n",
       "0         10.250000    ...                      1                 0   \n",
       "1          0.000000    ...                      0                 0   \n",
       "2         10.250000    ...                      1                 0   \n",
       "3          0.000000    ...                      0                 0   \n",
       "4        321.911765    ...                     34                 0   \n",
       "\n",
       "   Active Mean   Active Std  Active Max  Active Min   Idle Mean    Idle Std  \\\n",
       "0         0.00        0.000         0.0         0.0         0.0         0.0   \n",
       "1         0.00        0.000         0.0         0.0         0.0         0.0   \n",
       "2         0.00        0.000         0.0         0.0         0.0         0.0   \n",
       "3         0.00        0.000         0.0         0.0         0.0         0.0   \n",
       "4   5887718.25  2615219.556   9011009.0   3481402.0  19200000.0  18500000.0   \n",
       "\n",
       "     Idle Max   Idle Min  \n",
       "0         0.0        0.0  \n",
       "1         0.0        0.0  \n",
       "2         0.0        0.0  \n",
       "3         0.0        0.0  \n",
       "4  45000000.0  5734751.0  \n",
       "\n",
       "[5 rows x 78 columns]"
      ]
     },
     "execution_count": 10,
     "metadata": {},
     "output_type": "execute_result"
    }
   ],
   "source": [
    "X.head()"
   ]
  },
  {
   "cell_type": "code",
   "execution_count": null,
   "metadata": {},
   "outputs": [],
   "source": []
  },
  {
   "cell_type": "code",
   "execution_count": 3,
   "metadata": {},
   "outputs": [],
   "source": [
    "def clean_dataset(df):\n",
    "    assert isinstance(df, pd.DataFrame), \"df needs to be a pd.DataFrame\"\n",
    "    df.dropna(inplace=True)\n",
    "    indices_to_keep = ~df.isin([np.nan, np.inf, -np.inf]).any(1)\n",
    "    return df[indices_to_keep].astype(np.float64)"
   ]
  },
  {
   "cell_type": "code",
   "execution_count": 12,
   "metadata": {},
   "outputs": [
    {
     "name": "stderr",
     "output_type": "stream",
     "text": [
      "C:\\Users\\hp\\Anaconda3\\lib\\site-packages\\pandas\\core\\ops.py:1167: FutureWarning: elementwise comparison failed; returning scalar instead, but in the future will perform elementwise comparison\n",
      "  result = method(y)\n"
     ]
    },
    {
     "ename": "TypeError",
     "evalue": "invalid type comparison",
     "output_type": "error",
     "traceback": [
      "\u001b[1;31m---------------------------------------------------------------------------\u001b[0m",
      "\u001b[1;31mTypeError\u001b[0m                                 Traceback (most recent call last)",
      "\u001b[1;32m<ipython-input-12-bd3a86849a93>\u001b[0m in \u001b[0;36m<module>\u001b[1;34m\u001b[0m\n\u001b[0;32m      3\u001b[0m \u001b[0mX\u001b[0m \u001b[1;33m=\u001b[0m \u001b[0mnp\u001b[0m\u001b[1;33m.\u001b[0m\u001b[0mnan_to_num\u001b[0m\u001b[1;33m(\u001b[0m\u001b[0mX\u001b[0m\u001b[1;33m)\u001b[0m\u001b[1;33m\u001b[0m\u001b[0m\n\u001b[0;32m      4\u001b[0m \u001b[0mX\u001b[0m \u001b[1;33m=\u001b[0m \u001b[0mnp\u001b[0m\u001b[1;33m.\u001b[0m\u001b[0mnan_to_num\u001b[0m\u001b[1;33m(\u001b[0m\u001b[0mX\u001b[0m\u001b[1;33m)\u001b[0m\u001b[1;33m\u001b[0m\u001b[0m\n\u001b[1;32m----> 5\u001b[1;33m \u001b[0mdf\u001b[0m\u001b[1;33m.\u001b[0m\u001b[0mdrop\u001b[0m\u001b[1;33m(\u001b[0m\u001b[0mdf\u001b[0m\u001b[1;33m[\u001b[0m\u001b[0mdf\u001b[0m\u001b[1;33m[\u001b[0m\u001b[1;34m'Flow Byts/s'\u001b[0m\u001b[1;33m]\u001b[0m \u001b[1;33m==\u001b[0m \u001b[1;34m'Infinity'\u001b[0m\u001b[1;33m]\u001b[0m\u001b[1;33m.\u001b[0m\u001b[0mindex\u001b[0m\u001b[1;33m,\u001b[0m \u001b[0minplace\u001b[0m \u001b[1;33m=\u001b[0m \u001b[1;32mTrue\u001b[0m\u001b[1;33m)\u001b[0m\u001b[1;33m\u001b[0m\u001b[0m\n\u001b[0m\u001b[0;32m      6\u001b[0m \u001b[0mdf\u001b[0m\u001b[1;33m.\u001b[0m\u001b[0mdrop\u001b[0m\u001b[1;33m(\u001b[0m\u001b[0mdf\u001b[0m\u001b[1;33m[\u001b[0m\u001b[0mdf\u001b[0m\u001b[1;33m[\u001b[0m\u001b[1;34m'Flow Pkts/s'\u001b[0m\u001b[1;33m]\u001b[0m \u001b[1;33m==\u001b[0m \u001b[1;34m'Infinity'\u001b[0m\u001b[1;33m]\u001b[0m\u001b[1;33m.\u001b[0m\u001b[0mindex\u001b[0m\u001b[1;33m,\u001b[0m \u001b[0minplace\u001b[0m \u001b[1;33m=\u001b[0m \u001b[1;32mTrue\u001b[0m\u001b[1;33m)\u001b[0m\u001b[1;33m\u001b[0m\u001b[0m\n",
      "\u001b[1;32m~\\Anaconda3\\lib\\site-packages\\pandas\\core\\ops.py\u001b[0m in \u001b[0;36mwrapper\u001b[1;34m(self, other, axis)\u001b[0m\n\u001b[0;32m   1281\u001b[0m \u001b[1;33m\u001b[0m\u001b[0m\n\u001b[0;32m   1282\u001b[0m             \u001b[1;32mwith\u001b[0m \u001b[0mnp\u001b[0m\u001b[1;33m.\u001b[0m\u001b[0merrstate\u001b[0m\u001b[1;33m(\u001b[0m\u001b[0mall\u001b[0m\u001b[1;33m=\u001b[0m\u001b[1;34m'ignore'\u001b[0m\u001b[1;33m)\u001b[0m\u001b[1;33m:\u001b[0m\u001b[1;33m\u001b[0m\u001b[0m\n\u001b[1;32m-> 1283\u001b[1;33m                 \u001b[0mres\u001b[0m \u001b[1;33m=\u001b[0m \u001b[0mna_op\u001b[0m\u001b[1;33m(\u001b[0m\u001b[0mvalues\u001b[0m\u001b[1;33m,\u001b[0m \u001b[0mother\u001b[0m\u001b[1;33m)\u001b[0m\u001b[1;33m\u001b[0m\u001b[0m\n\u001b[0m\u001b[0;32m   1284\u001b[0m             \u001b[1;32mif\u001b[0m \u001b[0mis_scalar\u001b[0m\u001b[1;33m(\u001b[0m\u001b[0mres\u001b[0m\u001b[1;33m)\u001b[0m\u001b[1;33m:\u001b[0m\u001b[1;33m\u001b[0m\u001b[0m\n\u001b[0;32m   1285\u001b[0m                 raise TypeError('Could not compare {typ} type with Series'\n",
      "\u001b[1;32m~\\Anaconda3\\lib\\site-packages\\pandas\\core\\ops.py\u001b[0m in \u001b[0;36mna_op\u001b[1;34m(x, y)\u001b[0m\n\u001b[0;32m   1167\u001b[0m                     \u001b[0mresult\u001b[0m \u001b[1;33m=\u001b[0m \u001b[0mmethod\u001b[0m\u001b[1;33m(\u001b[0m\u001b[0my\u001b[0m\u001b[1;33m)\u001b[0m\u001b[1;33m\u001b[0m\u001b[0m\n\u001b[0;32m   1168\u001b[0m                 \u001b[1;32mif\u001b[0m \u001b[0mresult\u001b[0m \u001b[1;32mis\u001b[0m \u001b[0mNotImplemented\u001b[0m\u001b[1;33m:\u001b[0m\u001b[1;33m\u001b[0m\u001b[0m\n\u001b[1;32m-> 1169\u001b[1;33m                     \u001b[1;32mraise\u001b[0m \u001b[0mTypeError\u001b[0m\u001b[1;33m(\u001b[0m\u001b[1;34m\"invalid type comparison\"\u001b[0m\u001b[1;33m)\u001b[0m\u001b[1;33m\u001b[0m\u001b[0m\n\u001b[0m\u001b[0;32m   1170\u001b[0m             \u001b[1;32melse\u001b[0m\u001b[1;33m:\u001b[0m\u001b[1;33m\u001b[0m\u001b[0m\n\u001b[0;32m   1171\u001b[0m                 \u001b[0mresult\u001b[0m \u001b[1;33m=\u001b[0m \u001b[0mop\u001b[0m\u001b[1;33m(\u001b[0m\u001b[0mx\u001b[0m\u001b[1;33m,\u001b[0m \u001b[0my\u001b[0m\u001b[1;33m)\u001b[0m\u001b[1;33m\u001b[0m\u001b[0m\n",
      "\u001b[1;31mTypeError\u001b[0m: invalid type comparison"
     ]
    }
   ],
   "source": [
    "# clean_dataset(X)\n",
    "X.replace([np.inf, -np.inf], np.nan, inplace=True)\n",
    "X = np.nan_to_num(X)\n",
    "X = np.nan_to_num(X)\n",
    "df.drop(df[df['Flow Byts/s'] == 'Infinity'].index, inplace = True)\n",
    "df.drop(df[df['Flow Pkts/s'] == 'Infinity'].index, inplace = True)\n"
   ]
  },
  {
   "cell_type": "code",
   "execution_count": 81,
   "metadata": {},
   "outputs": [
    {
     "name": "stdout",
     "output_type": "stream",
     "text": [
      "[-2.97481880e-13  1.66521366e-12 -1.36773178e-12] [[-2.13356621e-15  1.97313122e-07 -5.93961238e-10 -6.04931895e-10\n",
      "  -2.75873411e-07 -5.68862943e-07 -7.31298104e-10 -2.00258224e-11\n",
      "  -3.31082517e-10 -2.95160077e-10 -3.65278320e-10  3.67054895e-11\n",
      "  -4.88632352e-10 -1.80693270e-10  6.68650520e-07 -3.55945519e-08\n",
      "   4.43911021e-07  1.25906585e-08 -4.00257231e-07 -1.79589158e-07\n",
      "  -1.89155427e-07 -4.04855212e-07  3.26955370e-08  3.64601875e-07\n",
      "   1.58345535e-07 -1.01914979e-09 -1.00257822e-07  2.34221447e-07\n",
      "   1.44152507e-08 -1.13540289e-06 -1.40911167e-12  2.41633398e-13\n",
      "   0.00000000e+00  0.00000000e+00 -9.70806974e-09 -7.18870256e-09\n",
      "  -3.86439995e-08  3.04944754e-09 -1.24210042e-11 -5.48931473e-10\n",
      "  -5.43678741e-10 -3.12537213e-10 -1.68086513e-07 -5.26228314e-13\n",
      "   3.90631040e-13 -3.96367433e-14 -5.27935860e-10 -1.46516832e-09\n",
      "   0.00000000e+00  0.00000000e+00  0.00000000e+00 -2.93109174e-13\n",
      "  -5.92889326e-10 -3.31082517e-10 -4.88632352e-10  0.00000000e+00\n",
      "   0.00000000e+00  0.00000000e+00  0.00000000e+00 -1.92787427e-10\n",
      "  -7.11508568e-08 -1.15155823e-10 -1.86463693e-07  3.82408982e-10\n",
      "   5.58716764e-07 -1.08092046e-07 -9.87888609e-08 -2.55714787e-10\n",
      "  -3.87142843e-11  4.82608843e-07  2.95381014e-07  4.55509144e-07\n",
      "   2.41541743e-07]\n",
      " [ 6.59499952e-12 -4.78541247e-07  5.14428795e-10  1.12425678e-09\n",
      "  -6.97750132e-08  1.25644802e-06  1.75468045e-09  4.19330581e-12\n",
      "   6.64987667e-10  7.73291944e-10  1.41860053e-09 -1.23491446e-11\n",
      "   1.02089860e-09  6.07808977e-10 -3.24185160e-07 -9.17328205e-08\n",
      "  -7.92829835e-08 -1.72587655e-07  4.63255830e-07 -4.37258175e-08\n",
      "   4.65250558e-07 -1.24421394e-07  3.78545487e-07 -4.87150566e-07\n",
      "   3.75182162e-07  1.23682483e-08  7.53287811e-08 -3.19979526e-07\n",
      "   1.04096574e-07  2.39923520e-06  2.46844210e-12 -6.79460232e-13\n",
      "   0.00000000e+00  0.00000000e+00  1.18861647e-08  2.01501411e-08\n",
      "  -3.47949271e-08 -5.69378934e-08 -2.10179256e-11  1.72925522e-09\n",
      "   1.05684951e-09  8.40473810e-10  3.95869590e-07  1.19470744e-12\n",
      "   2.27234391e-14  8.87881896e-14  7.50992575e-10  2.07988170e-09\n",
      "   0.00000000e+00  0.00000000e+00  0.00000000e+00  1.65321112e-12\n",
      "   1.16042918e-09  6.64987667e-10  1.02089860e-09  0.00000000e+00\n",
      "   0.00000000e+00  0.00000000e+00  0.00000000e+00  2.81806128e-10\n",
      "   1.01144677e-07 -1.69753694e-10 -1.99775645e-07 -2.72766006e-10\n",
      "  -3.33684736e-07  1.93314769e-07  1.84162654e-07  3.76749360e-11\n",
      "   7.02640137e-11 -7.43511858e-07 -3.91752583e-07 -1.12027035e-06\n",
      "  -4.61101864e-07]\n",
      " [-6.59286595e-12  2.81228125e-07  7.95324426e-11 -5.19324889e-10\n",
      "   3.45648424e-07 -6.87585078e-07 -1.02338234e-09  1.58325166e-11\n",
      "  -3.33905150e-10 -4.78131867e-10 -1.05332221e-09 -2.43563449e-11\n",
      "  -5.32266249e-10 -4.27115708e-10 -3.44465361e-07  1.27327372e-07\n",
      "  -3.64628038e-07  1.59996996e-07 -6.29985993e-08  2.23314975e-07\n",
      "  -2.76095131e-07  5.29276606e-07 -4.11241023e-07  1.22548692e-07\n",
      "  -5.33527696e-07 -1.13490986e-08  2.49290408e-08  8.57580792e-08\n",
      "  -1.18511825e-07 -1.26383232e-06 -1.05933044e-12  4.37826834e-13\n",
      "   0.00000000e+00  0.00000000e+00 -2.17809498e-09 -1.29614386e-08\n",
      "   7.34389266e-08  5.38884458e-08  3.34389299e-11 -1.18032375e-09\n",
      "  -5.13170767e-10 -5.27936596e-10 -2.27783077e-07 -6.68479126e-13\n",
      "  -4.13354479e-13 -4.91514463e-14 -2.23056714e-10 -6.14713378e-10\n",
      "   0.00000000e+00  0.00000000e+00  0.00000000e+00 -1.36010195e-12\n",
      "  -5.67539859e-10 -3.33905150e-10 -5.32266249e-10  0.00000000e+00\n",
      "   0.00000000e+00  0.00000000e+00  0.00000000e+00 -8.90187007e-11\n",
      "  -2.99938198e-08  2.84909518e-10  3.86239338e-07 -1.09642976e-10\n",
      "  -2.25032028e-07 -8.52227227e-08 -8.53737934e-08  2.18039851e-10\n",
      "  -3.15497294e-11  2.60903015e-07  9.63715687e-08  6.64761210e-07\n",
      "   2.19560122e-07]]\n"
     ]
    },
    {
     "name": "stderr",
     "output_type": "stream",
     "text": [
      "C:\\Users\\hp\\Anaconda3\\lib\\site-packages\\sklearn\\linear_model\\logistic.py:758: ConvergenceWarning: lbfgs failed to converge. Increase the number of iterations.\n",
      "  \"of iterations.\", ConvergenceWarning)\n"
     ]
    }
   ],
   "source": [
    "from sklearn.linear_model import LogisticRegression\n",
    "model = LogisticRegression(multi_class='multinomial',solver='lbfgs')\n",
    "model.fit(X, y)\n",
    "# ypred = model.predict(X)\n",
    "intercept = model.intercept_\n",
    "coef = model.coef_\n",
    "print(intercept, coef)\n",
    "ypred = model.predict(X)"
   ]
  },
  {
   "cell_type": "code",
   "execution_count": 82,
   "metadata": {},
   "outputs": [],
   "source": [
    "X = df.iloc[:,:-1]\n",
    "y =df['Label']"
   ]
  },
  {
   "cell_type": "code",
   "execution_count": 15,
   "metadata": {},
   "outputs": [
    {
     "data": {
      "text/plain": [
       "545"
      ]
     },
     "execution_count": 15,
     "metadata": {},
     "output_type": "execute_result"
    }
   ],
   "source": []
  },
  {
   "cell_type": "code",
   "execution_count": null,
   "metadata": {},
   "outputs": [],
   "source": []
  },
  {
   "cell_type": "code",
   "execution_count": null,
   "metadata": {},
   "outputs": [],
   "source": []
  },
  {
   "cell_type": "code",
   "execution_count": 37,
   "metadata": {},
   "outputs": [
    {
     "ename": "ValueError",
     "evalue": "too many values to unpack (expected 4)",
     "output_type": "error",
     "traceback": [
      "\u001b[1;31m---------------------------------------------------------------------------\u001b[0m",
      "\u001b[1;31mValueError\u001b[0m                                Traceback (most recent call last)",
      "\u001b[1;32m<ipython-input-37-71d63735312c>\u001b[0m in \u001b[0;36m<module>\u001b[1;34m\u001b[0m\n\u001b[0;32m      1\u001b[0m \u001b[1;32mfrom\u001b[0m \u001b[0msklearn\u001b[0m\u001b[1;33m.\u001b[0m\u001b[0mmetrics\u001b[0m \u001b[1;32mimport\u001b[0m \u001b[0mconfusion_matrix\u001b[0m\u001b[1;33m\u001b[0m\u001b[0m\n\u001b[1;32m----> 2\u001b[1;33m \u001b[0mtn\u001b[0m\u001b[1;33m,\u001b[0m \u001b[0mfp\u001b[0m\u001b[1;33m,\u001b[0m \u001b[0mfn\u001b[0m\u001b[1;33m,\u001b[0m \u001b[0mtp\u001b[0m \u001b[1;33m=\u001b[0m \u001b[0mconfusion_matrix\u001b[0m\u001b[1;33m(\u001b[0m\u001b[0my\u001b[0m\u001b[1;33m,\u001b[0m\u001b[0mypred\u001b[0m\u001b[1;33m)\u001b[0m\u001b[1;33m.\u001b[0m\u001b[0mravel\u001b[0m\u001b[1;33m(\u001b[0m\u001b[1;33m)\u001b[0m\u001b[1;33m\u001b[0m\u001b[0m\n\u001b[0m",
      "\u001b[1;31mValueError\u001b[0m: too many values to unpack (expected 4)"
     ]
    }
   ],
   "source": [
    "from sklearn.metrics import confusion_matrix\n",
    "tn, fp, fn, tp = confusion_matrix(y,ypred).ravel()"
   ]
  },
  {
   "cell_type": "code",
   "execution_count": 53,
   "metadata": {},
   "outputs": [
    {
     "name": "stdout",
     "output_type": "stream",
     "text": [
      "82   28   18   95\n"
     ]
    }
   ],
   "source": [
    "print (tn, \" \", fp, \" \", fn, \" \", tp)"
   ]
  },
  {
   "cell_type": "code",
   "execution_count": 78,
   "metadata": {},
   "outputs": [
    {
     "name": "stdout",
     "output_type": "stream",
     "text": [
      "Mean Accuracy: 0.808 (0.050)\n"
     ]
    }
   ],
   "source": [
    "from numpy import std\n",
    "from numpy import mean\n",
    "from sklearn.datasets import make_classification\n",
    "from sklearn.model_selection import cross_val_score\n",
    "from sklearn.model_selection import RepeatedStratifiedKFold\n",
    "cv = RepeatedStratifiedKFold(n_splits=10, n_repeats=3, random_state=1)\n",
    "# evaluate the model and collect the scores\n",
    "n_scores = cross_val_score(model, X, y, scoring='accuracy', cv=cv, n_jobs=-1)\n",
    "# report the model performance\n",
    "print('Mean Accuracy: %.3f (%.3f)' % (mean(n_scores), std(n_scores)))"
   ]
  },
  {
   "cell_type": "code",
   "execution_count": 47,
   "metadata": {},
   "outputs": [],
   "source": [
    "# from sklearn import metrics\n",
    "# # import matplotlib.pyplot as plt\n",
    "# # import itertools\n",
    "\n",
    "# # score = metrics.accuracy_score(y, ypred)\n",
    "# # print(\"accuracy:   %0.3f\" % score)\n",
    "\n",
    "# # cm = metrics.confusion_matrix(y, ypred)\n",
    "# # plot_confusion_matrix(cm, classes=['Tor', 'VPN','No VPN'])\n",
    "# def plot_confusion_matrix(cm, classes,\n",
    "#                           normalize=False,\n",
    "#                           title='Confusion matrix',\n",
    "#                           cmap=plt.cm.Blues):\n",
    "\n",
    "#     plt.imshow(cm, interpolation='nearest', cmap=cmap)\n",
    "#     plt.title(title)\n",
    "#     plt.colorbar()\n",
    "#     tick_marks = np.arange(len(classes))\n",
    "#     plt.xticks(tick_marks, classes, rotation=45)\n",
    "#     plt.yticks(tick_marks, classes)\n",
    "\n",
    "#     if normalize:\n",
    "#         cm = cm.astype('float') / cm.sum(axis=1)[:, np.newaxis]\n",
    "#         print(\"Normalized confusion matrix\")\n",
    "#     else:\n",
    "#         print('Confusion matrix, without normalization')\n",
    "\n",
    "#     thresh = cm.max() / 2.\n",
    "#     for i, j in itertools.product(range(cm.shape[0]), range(cm.shape[1])):\n",
    "#         plt.text(j, i, cm[i, j],\n",
    "#                  horizontalalignment=\"center\",\n",
    "#                  color=\"white\" if cm[i, j] > thresh else \"black\")\n",
    "\n",
    "#     plt.tight_layout()\n",
    "#     plt.ylabel('True label')\n",
    "#     plt.xlabel('Predicted label')"
   ]
  },
  {
   "cell_type": "code",
   "execution_count": 43,
   "metadata": {},
   "outputs": [],
   "source": []
  },
  {
   "cell_type": "code",
   "execution_count": null,
   "metadata": {},
   "outputs": [],
   "source": []
  },
  {
   "cell_type": "code",
   "execution_count": null,
   "metadata": {},
   "outputs": [],
   "source": []
  }
 ],
 "metadata": {
  "kernelspec": {
   "display_name": "Python 3",
   "language": "python",
   "name": "python3"
  },
  "language_info": {
   "codemirror_mode": {
    "name": "ipython",
    "version": 3
   },
   "file_extension": ".py",
   "mimetype": "text/x-python",
   "name": "python",
   "nbconvert_exporter": "python",
   "pygments_lexer": "ipython3",
   "version": "3.6.6"
  }
 },
 "nbformat": 4,
 "nbformat_minor": 2
}
